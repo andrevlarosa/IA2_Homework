{
  "nbformat": 4,
  "nbformat_minor": 0,
  "metadata": {
    "colab": {
      "provenance": []
    },
    "kernelspec": {
      "name": "python3",
      "display_name": "Python 3"
    },
    "language_info": {
      "name": "python"
    }
  },
  "cells": [
    {
      "cell_type": "code",
      "execution_count": 1,
      "metadata": {
        "id": "G44dxXcfYR3v"
      },
      "outputs": [],
      "source": [
        "import matplotlib.pyplot as plt\n",
        "import numpy as np\n",
        "import pandas as pd"
      ]
    },
    {
      "cell_type": "code",
      "source": [
        "from google.colab import files\n",
        "uploaded = files.upload()"
      ],
      "metadata": {
        "colab": {
          "base_uri": "https://localhost:8080/",
          "height": 73
        },
        "id": "HKRmU3dnYmbu",
        "outputId": "10a365b0-2449-499f-d734-45fa7a93d8cb"
      },
      "execution_count": 2,
      "outputs": [
        {
          "output_type": "display_data",
          "data": {
            "text/plain": [
              "<IPython.core.display.HTML object>"
            ],
            "text/html": [
              "\n",
              "     <input type=\"file\" id=\"files-c208798c-e311-4170-9138-e2dd64f7ba35\" name=\"files[]\" multiple disabled\n",
              "        style=\"border:none\" />\n",
              "     <output id=\"result-c208798c-e311-4170-9138-e2dd64f7ba35\">\n",
              "      Upload widget is only available when the cell has been executed in the\n",
              "      current browser session. Please rerun this cell to enable.\n",
              "      </output>\n",
              "      <script>// Copyright 2017 Google LLC\n",
              "//\n",
              "// Licensed under the Apache License, Version 2.0 (the \"License\");\n",
              "// you may not use this file except in compliance with the License.\n",
              "// You may obtain a copy of the License at\n",
              "//\n",
              "//      http://www.apache.org/licenses/LICENSE-2.0\n",
              "//\n",
              "// Unless required by applicable law or agreed to in writing, software\n",
              "// distributed under the License is distributed on an \"AS IS\" BASIS,\n",
              "// WITHOUT WARRANTIES OR CONDITIONS OF ANY KIND, either express or implied.\n",
              "// See the License for the specific language governing permissions and\n",
              "// limitations under the License.\n",
              "\n",
              "/**\n",
              " * @fileoverview Helpers for google.colab Python module.\n",
              " */\n",
              "(function(scope) {\n",
              "function span(text, styleAttributes = {}) {\n",
              "  const element = document.createElement('span');\n",
              "  element.textContent = text;\n",
              "  for (const key of Object.keys(styleAttributes)) {\n",
              "    element.style[key] = styleAttributes[key];\n",
              "  }\n",
              "  return element;\n",
              "}\n",
              "\n",
              "// Max number of bytes which will be uploaded at a time.\n",
              "const MAX_PAYLOAD_SIZE = 100 * 1024;\n",
              "\n",
              "function _uploadFiles(inputId, outputId) {\n",
              "  const steps = uploadFilesStep(inputId, outputId);\n",
              "  const outputElement = document.getElementById(outputId);\n",
              "  // Cache steps on the outputElement to make it available for the next call\n",
              "  // to uploadFilesContinue from Python.\n",
              "  outputElement.steps = steps;\n",
              "\n",
              "  return _uploadFilesContinue(outputId);\n",
              "}\n",
              "\n",
              "// This is roughly an async generator (not supported in the browser yet),\n",
              "// where there are multiple asynchronous steps and the Python side is going\n",
              "// to poll for completion of each step.\n",
              "// This uses a Promise to block the python side on completion of each step,\n",
              "// then passes the result of the previous step as the input to the next step.\n",
              "function _uploadFilesContinue(outputId) {\n",
              "  const outputElement = document.getElementById(outputId);\n",
              "  const steps = outputElement.steps;\n",
              "\n",
              "  const next = steps.next(outputElement.lastPromiseValue);\n",
              "  return Promise.resolve(next.value.promise).then((value) => {\n",
              "    // Cache the last promise value to make it available to the next\n",
              "    // step of the generator.\n",
              "    outputElement.lastPromiseValue = value;\n",
              "    return next.value.response;\n",
              "  });\n",
              "}\n",
              "\n",
              "/**\n",
              " * Generator function which is called between each async step of the upload\n",
              " * process.\n",
              " * @param {string} inputId Element ID of the input file picker element.\n",
              " * @param {string} outputId Element ID of the output display.\n",
              " * @return {!Iterable<!Object>} Iterable of next steps.\n",
              " */\n",
              "function* uploadFilesStep(inputId, outputId) {\n",
              "  const inputElement = document.getElementById(inputId);\n",
              "  inputElement.disabled = false;\n",
              "\n",
              "  const outputElement = document.getElementById(outputId);\n",
              "  outputElement.innerHTML = '';\n",
              "\n",
              "  const pickedPromise = new Promise((resolve) => {\n",
              "    inputElement.addEventListener('change', (e) => {\n",
              "      resolve(e.target.files);\n",
              "    });\n",
              "  });\n",
              "\n",
              "  const cancel = document.createElement('button');\n",
              "  inputElement.parentElement.appendChild(cancel);\n",
              "  cancel.textContent = 'Cancel upload';\n",
              "  const cancelPromise = new Promise((resolve) => {\n",
              "    cancel.onclick = () => {\n",
              "      resolve(null);\n",
              "    };\n",
              "  });\n",
              "\n",
              "  // Wait for the user to pick the files.\n",
              "  const files = yield {\n",
              "    promise: Promise.race([pickedPromise, cancelPromise]),\n",
              "    response: {\n",
              "      action: 'starting',\n",
              "    }\n",
              "  };\n",
              "\n",
              "  cancel.remove();\n",
              "\n",
              "  // Disable the input element since further picks are not allowed.\n",
              "  inputElement.disabled = true;\n",
              "\n",
              "  if (!files) {\n",
              "    return {\n",
              "      response: {\n",
              "        action: 'complete',\n",
              "      }\n",
              "    };\n",
              "  }\n",
              "\n",
              "  for (const file of files) {\n",
              "    const li = document.createElement('li');\n",
              "    li.append(span(file.name, {fontWeight: 'bold'}));\n",
              "    li.append(span(\n",
              "        `(${file.type || 'n/a'}) - ${file.size} bytes, ` +\n",
              "        `last modified: ${\n",
              "            file.lastModifiedDate ? file.lastModifiedDate.toLocaleDateString() :\n",
              "                                    'n/a'} - `));\n",
              "    const percent = span('0% done');\n",
              "    li.appendChild(percent);\n",
              "\n",
              "    outputElement.appendChild(li);\n",
              "\n",
              "    const fileDataPromise = new Promise((resolve) => {\n",
              "      const reader = new FileReader();\n",
              "      reader.onload = (e) => {\n",
              "        resolve(e.target.result);\n",
              "      };\n",
              "      reader.readAsArrayBuffer(file);\n",
              "    });\n",
              "    // Wait for the data to be ready.\n",
              "    let fileData = yield {\n",
              "      promise: fileDataPromise,\n",
              "      response: {\n",
              "        action: 'continue',\n",
              "      }\n",
              "    };\n",
              "\n",
              "    // Use a chunked sending to avoid message size limits. See b/62115660.\n",
              "    let position = 0;\n",
              "    do {\n",
              "      const length = Math.min(fileData.byteLength - position, MAX_PAYLOAD_SIZE);\n",
              "      const chunk = new Uint8Array(fileData, position, length);\n",
              "      position += length;\n",
              "\n",
              "      const base64 = btoa(String.fromCharCode.apply(null, chunk));\n",
              "      yield {\n",
              "        response: {\n",
              "          action: 'append',\n",
              "          file: file.name,\n",
              "          data: base64,\n",
              "        },\n",
              "      };\n",
              "\n",
              "      let percentDone = fileData.byteLength === 0 ?\n",
              "          100 :\n",
              "          Math.round((position / fileData.byteLength) * 100);\n",
              "      percent.textContent = `${percentDone}% done`;\n",
              "\n",
              "    } while (position < fileData.byteLength);\n",
              "  }\n",
              "\n",
              "  // All done.\n",
              "  yield {\n",
              "    response: {\n",
              "      action: 'complete',\n",
              "    }\n",
              "  };\n",
              "}\n",
              "\n",
              "scope.google = scope.google || {};\n",
              "scope.google.colab = scope.google.colab || {};\n",
              "scope.google.colab._files = {\n",
              "  _uploadFiles,\n",
              "  _uploadFilesContinue,\n",
              "};\n",
              "})(self);\n",
              "</script> "
            ]
          },
          "metadata": {}
        },
        {
          "output_type": "stream",
          "name": "stdout",
          "text": [
            "Saving cluster.csv to cluster.csv\n"
          ]
        }
      ]
    },
    {
      "cell_type": "code",
      "source": [
        "data = pd.read_csv(\"cluster.csv\")\n",
        "print(data.head())"
      ],
      "metadata": {
        "colab": {
          "base_uri": "https://localhost:8080/"
        },
        "id": "G6c2rsQgYr91",
        "outputId": "4bb871f6-7269-43fd-a3ec-7ede99a395fe"
      },
      "execution_count": 3,
      "outputs": [
        {
          "output_type": "stream",
          "name": "stdout",
          "text": [
            "     X   Y\n",
            "0  185  72\n",
            "1  170  56\n",
            "2  168  60\n",
            "3  179  68\n",
            "4  182  72\n"
          ]
        }
      ]
    },
    {
      "cell_type": "code",
      "source": [
        "data.plot(x=\"X\", y=\"Y\", kind=\"scatter\")"
      ],
      "metadata": {
        "colab": {
          "base_uri": "https://localhost:8080/",
          "height": 466
        },
        "id": "xq7p0b-3YukZ",
        "outputId": "5be3a91d-600a-4b6d-8dd9-9fe640ba067c"
      },
      "execution_count": 4,
      "outputs": [
        {
          "output_type": "execute_result",
          "data": {
            "text/plain": [
              "<Axes: xlabel='X', ylabel='Y'>"
            ]
          },
          "metadata": {},
          "execution_count": 4
        },
        {
          "output_type": "display_data",
          "data": {
            "text/plain": [
              "<Figure size 640x480 with 1 Axes>"
            ],
            "image/png": "[encoded data removed]"
          },
          "metadata": {}
        }
      ]
    },
    {
      "cell_type": "code",
      "source": [
        "def cluster(dataFrame, numClasses, distance):\n",
        "  x = data.values[:,0]\n",
        "  y = data.values[:,1]\n",
        "  assignmentData = []\n",
        "  classes = np.arange(1, (numClasses+1))\n",
        "  xCentroids = []\n",
        "  yCentroids= []\n",
        "  initialLimit = numClasses\n",
        "  limit = len(x)\n",
        "\n",
        "  setInitialPoints(x, y, xCentroids, yCentroids, assignmentData, classes, numClasses)\n",
        "\n",
        "  for i in range(initialLimit, limit):\n",
        "    indexType = evalGroup(x[i], y[i], xCentroids, yCentroids, numClasses, distance)\n",
        "    assignmentData.append(classes[indexType])\n",
        "    newXCentroid, newYCentroid = evalNewCentroid(x, y, xCentroids, yCentroids, assignmentData, classes[indexType])\n",
        "    xCentroids[indexType] = newXCentroid\n",
        "    yCentroids[indexType] = newYCentroid\n",
        "\n",
        "  coefficent = pearsonCoefficient(x, y)\n",
        "\n",
        "  centroids = { \"X\": xCentroids, \"Y\": yCentroids }\n",
        "\n",
        "  dataFrame[\"Class\"] = assignmentData\n",
        "\n",
        "  return centroids, xCentroids, yCentroids, coefficent"
      ],
      "metadata": {
        "id": "jzpG0iR3Y-jk"
      },
      "execution_count": 57,
      "outputs": []
    },
    {
      "cell_type": "code",
      "source": [
        "def setInitialPoints(xValues, yValues, xCentroids, yCentroids, assignmentData, classes, numClasses):\n",
        "  for i in range(numClasses):\n",
        "    assignmentData.append(classes[i])\n",
        "    xCentroids.append(xValues[i])\n",
        "    yCentroids.append(yValues[i])"
      ],
      "metadata": {
        "id": "JzOrxwtjZBeu"
      },
      "execution_count": 6,
      "outputs": []
    },
    {
      "cell_type": "code",
      "source": [
        "def evalGroup(xPos, yPos, xCentroids, yCentroids, classes, distance):\n",
        "  distanceCluster = []\n",
        "\n",
        "  for i in range(classes):\n",
        "    if distance == \"manhattan\":\n",
        "      distanceCluster.append(manhattanDistance(xPos, yPos, xCentroids[i], yCentroids[i]))\n",
        "    elif distance == \"cosine\":\n",
        "      distanceCluster.append(cosineSimilarity(xPos, yPos, xCentroids[i], yCentroids[i]))\n",
        "    elif distance == \"euclidean\":\n",
        "      distanceCluster.append(euclideanDistance(xPos, yPos, xCentroids[i], yCentroids[i]))\n",
        "\n",
        "  return distanceCluster.index(min(distanceCluster))"
      ],
      "metadata": {
        "id": "j2fZIPsnZDR8"
      },
      "execution_count": 32,
      "outputs": []
    },
    {
      "cell_type": "code",
      "source": [
        "def euclideanDistance(xPosition, yPosition, xCentroid, yCentroid):\n",
        "  return np.sqrt((xPosition - xCentroid)**2 + (yPosition - yCentroid)**2)"
      ],
      "metadata": {
        "id": "rAqsqKZoZFPT"
      },
      "execution_count": 41,
      "outputs": []
    },
    {
      "cell_type": "code",
      "source": [
        "def manhattanDistance(xPosition, yPosition, xCentroid, yCentroid):\n",
        "  return (abs(xPosition - xCentroid) + abs(yPosition - yCentroid))"
      ],
      "metadata": {
        "id": "glL3oJNUapPa"
      },
      "execution_count": 42,
      "outputs": []
    },
    {
      "cell_type": "code",
      "source": [
        "def cosineSimilarity(xPosition, yPosition, xCentroid, yCentroid):\n",
        "  origin = [0, 0]\n",
        "  moduleProduct = []\n",
        "\n",
        "  dotProduct = (xPosition * xCentroid) + (yPosition * yCentroid)\n",
        "\n",
        "  moduleProduct.append(euclideanDistance(xPosition, yPosition, origin[0], origin[1]))\n",
        "  moduleProduct.append(euclideanDistance(xCentroid, yCentroid, origin[0], origin[1]))\n",
        "\n",
        "  result = (1 - (dotProduct / (moduleProduct[0] * moduleProduct[1])))\n",
        "\n",
        "  return result"
      ],
      "metadata": {
        "id": "QX2XXLwIbQQ6"
      },
      "execution_count": 43,
      "outputs": []
    },
    {
      "cell_type": "code",
      "source": [
        "def evalNewCentroid(xValues, yValues, xCentroids, yCentroids, assignmentData, classValue):\n",
        "  indexValues = []\n",
        "  sumX = 0\n",
        "  sumY = 0\n",
        "\n",
        "  for i in range(len(assignmentData)):\n",
        "    if assignmentData[i] == classValue:\n",
        "      indexValues.append(i)\n",
        "\n",
        "  for j in range(len(indexValues)):\n",
        "    sumX += xValues[indexValues[j]]\n",
        "    sumY += yValues[indexValues[j]]\n",
        "\n",
        "  xMean = round(sumX/len(indexValues), 2)\n",
        "  yMean = round(sumY/len(indexValues), 2)\n",
        "\n",
        "  return xMean, yMean"
      ],
      "metadata": {
        "id": "8T7j8-ktZOXP"
      },
      "execution_count": 44,
      "outputs": []
    },
    {
      "cell_type": "code",
      "source": [
        "def pearsonCoefficient(x, y):\n",
        "  xMean = (sum(x)/len(x))\n",
        "  yMean = (sum(y)/len(y))\n",
        "\n",
        "  diffX = []\n",
        "  diffY = []\n",
        "  diffX2 = []\n",
        "  diffY2 = []\n",
        "  dotDiffXY = []\n",
        "\n",
        "\n",
        "  for i in range(len(x)):\n",
        "    diffX.append((x[i]-xMean))\n",
        "    diffY.append((y[i]-yMean))\n",
        "    diffX2.append((x[i]-xMean)**2)\n",
        "    diffY2.append((y[i]-yMean)**2)\n",
        "\n",
        "  for j in range(len(x)):\n",
        "    dotDiffXY.append(diffX[j]*diffY[j])\n",
        "\n",
        "  firstComponent = sum(dotDiffXY)\n",
        "  secondComponent = np.sqrt(sum(diffX2)*sum(diffY2))\n",
        "\n",
        "  result = 1 - ((firstComponent)/(secondComponent))\n",
        "\n",
        "  return result"
      ],
      "metadata": {
        "id": "uOnNHmxdh7vU"
      },
      "execution_count": 56,
      "outputs": []
    },
    {
      "cell_type": "code",
      "source": [
        "def createDataFrame(data):\n",
        "  return pd.DataFrame(data=data)"
      ],
      "metadata": {
        "id": "dR9RBWNmZQfe"
      },
      "execution_count": 45,
      "outputs": []
    },
    {
      "cell_type": "code",
      "source": [
        "def evalColor(assignmentGroup):\n",
        "  colors = []\n",
        "\n",
        "  for i in range(len(assignmentGroup)):\n",
        "    if (assignmentGroup[i] == 1):\n",
        "      colors.append(\"red\")\n",
        "    elif (assignmentGroup[i] == 2):\n",
        "      colors.append(\"blue\")\n",
        "    elif (assignmentGroup[i] == 3):\n",
        "      colors.append(\"green\")\n",
        "    elif (assignmentGroup[i] == 4):\n",
        "      colors.append(\"yellow\")\n",
        "    elif (assignmentGroup[i] == 5):\n",
        "      colors.append(\"purple\")\n",
        "    else:\n",
        "      colors.append(\"gray\")\n",
        "\n",
        "  return colors"
      ],
      "metadata": {
        "id": "NxlUEXw2aM_g"
      },
      "execution_count": 46,
      "outputs": []
    },
    {
      "cell_type": "code",
      "source": [
        "def getTitlePlot(distance):\n",
        "  if distance == \"manhattan\":\n",
        "    return \"Manhattan Distance\"\n",
        "  elif distance == \"cosine\":\n",
        "    return \"Cosine Distance\"\n",
        "  elif distance == \"euclidean\":\n",
        "    return \"Euclidean Distance\""
      ],
      "metadata": {
        "id": "9NeAGS9idScB"
      },
      "execution_count": 51,
      "outputs": []
    },
    {
      "cell_type": "code",
      "source": [
        "centroids, xCentroidGroup, yCentroidGroup, pearsonCoeff = cluster(data, 2, \"cosine\")\n",
        "dataCentroids = createDataFrame(centroids)\n",
        "dotColor = evalColor(data.values[:,2])"
      ],
      "metadata": {
        "id": "124QA74IaZ72"
      },
      "execution_count": 58,
      "outputs": []
    },
    {
      "cell_type": "code",
      "source": [
        "plt.scatter(data.values[:,0], data.values[:,1], c=dotColor)\n",
        "plt.scatter(xCentroidGroup[0], yCentroidGroup[0], c=\"red\", marker=\"*\", label=\"Class 1 = ({x} , {y})\".format(x=xCentroidGroup[0], y=yCentroidGroup[0]))\n",
        "plt.scatter(xCentroidGroup[1], yCentroidGroup[1], c=\"blue\", marker=\"*\", label=\"Class 2 = ({x} , {y})\".format(x=xCentroidGroup[1], y=yCentroidGroup[1]))\n",
        "plt.title(getTitlePlot(\"cosine\"))\n",
        "plt.xlabel(\"Data in X\")\n",
        "plt.ylabel(\"Data in Y\")\n",
        "plt.legend()"
      ],
      "metadata": {
        "colab": {
          "base_uri": "https://localhost:8080/",
          "height": 489
        },
        "id": "qdPLzFnqacED",
        "outputId": "b970d4a5-9b78-4bd7-d32f-572ff087e53c"
      },
      "execution_count": 59,
      "outputs": [
        {
          "output_type": "execute_result",
          "data": {
            "text/plain": [
              "<matplotlib.legend.Legend at 0x7b26a66c8eb0>"
            ]
          },
          "metadata": {},
          "execution_count": 59
        },
        {
          "output_type": "display_data",
          "data": {
            "text/plain": [
              "<Figure size 640x480 with 1 Axes>"
            ],
            "image/png": "[encoded data removed]"
          },
          "metadata": {}
        }
      ]
    },
    {
      "cell_type": "code",
      "source": [
        "print(\"Final Data Set\")\n",
        "print(data)\n",
        "print(\"-----------------------\")\n",
        "print(\"Centroids Data Set\")\n",
        "print(dataCentroids)\n",
        "print(\"-----------------------\")\n",
        "print(\"Coeficiente de Pearson entre X y Y: \", round(pearsonCoeff, 3))"
      ],
      "metadata": {
        "colab": {
          "base_uri": "https://localhost:8080/"
        },
        "id": "o-2aDCRcbmmn",
        "outputId": "db81852f-9657-4832-fd3b-abaa7bfbb244"
      },
      "execution_count": 62,
      "outputs": [
        {
          "output_type": "stream",
          "name": "stdout",
          "text": [
            "Final Data Set\n",
            "     X   Y  Class\n",
            "0  185  72      1\n",
            "1  170  56      2\n",
            "2  168  60      2\n",
            "3  179  68      1\n",
            "4  182  72      1\n",
            "5  188  77      1\n",
            "-----------------------\n",
            "Centroids Data Set\n",
            "       X      Y\n",
            "0  183.5  72.25\n",
            "1  169.0  58.00\n",
            "-----------------------\n",
            "Coeficiente de Pearson entre X y Y:  0.035\n"
          ]
        }
      ]
    }
  ]
}